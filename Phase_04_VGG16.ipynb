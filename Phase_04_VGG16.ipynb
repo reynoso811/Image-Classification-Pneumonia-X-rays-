{
  "nbformat": 4,
  "nbformat_minor": 0,
  "metadata": {
    "colab": {
      "name": "Phase_04_VGG16.ipynb",
      "provenance": [],
      "collapsed_sections": [],
      "authorship_tag": "ABX9TyM7oqnpwYCcGgIr1M67X/Gq",
      "include_colab_link": true
    },
    "kernelspec": {
      "display_name": "Python 3",
      "name": "python3"
    },
    "language_info": {
      "name": "python"
    }
  },
  "cells": [
    {
      "cell_type": "markdown",
      "metadata": {
        "id": "view-in-github",
        "colab_type": "text"
      },
      "source": [
        "<a href=\"https://colab.research.google.com/github/reynoso811/Image-Classification-Pneumonia-X-rays-/blob/main/Phase_04_VGG16.ipynb\" target=\"_parent\"><img src=\"https://colab.research.google.com/assets/colab-badge.svg\" alt=\"Open In Colab\"/></a>"
      ]
    },
    {
      "cell_type": "code",
      "metadata": {
        "id": "68yqibJdEYzk"
      },
      "source": [
        "# Pre-trained Keras VGG16 Model"
      ],
      "execution_count": null,
      "outputs": []
    },
    {
      "cell_type": "markdown",
      "metadata": {
        "id": "5ZqzRcKwyQ-H"
      },
      "source": [
        "# Importing libraries"
      ]
    },
    {
      "cell_type": "code",
      "metadata": {
        "colab": {
          "base_uri": "https://localhost:8080/"
        },
        "id": "5AgO2n2QG93p",
        "outputId": "c9484db7-44e6-4a2f-cefb-97b7c64ff95f"
      },
      "source": [
        "import numpy as np\n",
        "import pandas as pd \n",
        "import random as rn\n",
        "\n",
        "# tensorflow\n",
        "import tensorflow.random as tfr\n",
        "import tensorflow.keras as keras\n",
        "from tensorflow.keras.models import Sequential, load_model\n",
        "from tensorflow.keras.layers import Dense, Dropout, Flatten, Lambda, Input\n",
        "from tensorflow.keras.layers import Conv2D, MaxPool2D, MaxPooling2D, BatchNormalization\n",
        "from keras.models import Model\n",
        "from keras.applications.vgg16 import VGG16\n",
        "from keras.applications.vgg16 import preprocess_input\n",
        "from keras.preprocessing import image\n",
        "from tensorflow.keras import backend as K\n",
        "from tensorflow.keras.utils import to_categorical\n",
        "from tensorflow.keras.optimizers import RMSprop, Adam\n",
        "from tensorflow.keras.preprocessing.image import ImageDataGenerator\n",
        "from tensorflow.keras.callbacks import EarlyStopping, ReduceLROnPlateau, ModelCheckpoint\n",
        "\n",
        "# Plotting\n",
        "import matplotlib.pyplot as plt\n",
        "import matplotlib.image as mpimg\n",
        "\n",
        "import seaborn as sns\n",
        "\n",
        "from skimage import color, exposure\n",
        "from sklearn.metrics import classification_report\n",
        "\n",
        "import os\n",
        "import cv2\n",
        "\n",
        "# Setting the same seed for repeatability\n",
        "\n",
        "seed = 0\n",
        "\n",
        "np.random.seed(seed) \n",
        "rn.seed(seed)\n",
        "tfr.set_seed(seed)\n",
        "\n",
        "# Display graphs in a Jupyter\n",
        "%matplotlib inline\n",
        "\n",
        "print(\"Imported\")"
      ],
      "execution_count": null,
      "outputs": [
        {
          "output_type": "stream",
          "name": "stdout",
          "text": [
            "Imported\n"
          ]
        }
      ]
    },
    {
      "cell_type": "code",
      "metadata": {
        "colab": {
          "base_uri": "https://localhost:8080/"
        },
        "id": "bAGTawF1HWAv",
        "outputId": "187b6ceb-ce48-4dad-f887-0ac5f9dbb7b4"
      },
      "source": [
        "# Google Drive connection\n",
        "\n",
        "from google.colab import drive\n",
        "drive.mount('/content/drive')"
      ],
      "execution_count": null,
      "outputs": [
        {
          "output_type": "stream",
          "name": "stdout",
          "text": [
            "Mounted at /content/drive\n"
          ]
        }
      ]
    },
    {
      "cell_type": "markdown",
      "metadata": {
        "id": "lmfv6PKyy7IB"
      },
      "source": [
        "## Read the data"
      ]
    },
    {
      "cell_type": "code",
      "metadata": {
        "id": "WZYh1-kDHeme"
      },
      "source": [
        "# Create a path to the root folder and path to specific folders\n",
        "\n",
        "data_path = '/content/drive/MyDrive/Phase_04_project/chest_xray/chest_xray/'\n",
        "data_path\n",
        "\n",
        "train_path = data_path + 'train/'\n",
        "test_path = data_path + 'test/'\n",
        "val_path = data_path + 'val/'"
      ],
      "execution_count": null,
      "outputs": []
    },
    {
      "cell_type": "code",
      "metadata": {
        "id": "b_GU-VHFHh2f"
      },
      "source": [
        "# Optimal image size for modeling\n",
        "\n",
        "img_size = [200, 200]\n",
        "#img_size = 200"
      ],
      "execution_count": null,
      "outputs": []
    },
    {
      "cell_type": "code",
      "metadata": {
        "id": "ifh46Q5kHkDt"
      },
      "source": [
        "# Custom function to read data from folders\n",
        "# Returns numpy array [img, label]\n",
        "\n",
        "def read_data(data_paths):\n",
        "    for data_path in data_paths:\n",
        "        labels = ['PNEUMONIA', 'NORMAL']\n",
        "        images = []\n",
        "        y = []\n",
        "        for label in labels:\n",
        "            curr_path = data_path + label\n",
        "            for img in os.listdir(curr_path):\n",
        "                if ('DS' not in img):\n",
        "                    image_path = os.path.join(curr_path, img)\n",
        "                    image =  cv2.resize(cv2.imread(image_path), (img_size, img_size))\n",
        "                    if image is not None:\n",
        "                        images.append([image, label])\n",
        "                \n",
        "    images = np.asarray(images)\n",
        "    return images"
      ],
      "execution_count": null,
      "outputs": []
    },
    {
      "cell_type": "code",
      "metadata": {
        "colab": {
          "base_uri": "https://localhost:8080/"
        },
        "id": "Yg1_mt7NHmWT",
        "outputId": "605da7ef-5b92-4172-fba8-a329abed498a"
      },
      "source": [
        "train = read_data([train_path])\n",
        "test = read_data([val_path, test_path])"
      ],
      "execution_count": null,
      "outputs": [
        {
          "output_type": "stream",
          "name": "stderr",
          "text": [
            "/usr/local/lib/python3.7/dist-packages/numpy/core/_asarray.py:83: VisibleDeprecationWarning: Creating an ndarray from ragged nested sequences (which is a list-or-tuple of lists-or-tuples-or ndarrays with different lengths or shapes) is deprecated. If you meant to do this, you must specify 'dtype=object' when creating the ndarray\n",
            "  return array(a, dtype, copy=False, order=order)\n"
          ]
        }
      ]
    },
    {
      "cell_type": "code",
      "metadata": {
        "id": "aSODXRrBHtIu"
      },
      "source": [
        "# Shuffle the data\n",
        "\n",
        "for i in range(10):\n",
        "    np.random.shuffle(train)\n",
        "    np.random.shuffle(test)"
      ],
      "execution_count": null,
      "outputs": []
    },
    {
      "cell_type": "code",
      "metadata": {
        "id": "TJJcAnBZzTHK"
      },
      "source": [
        "# Create data frame for visualization\n",
        "\n",
        "train_df = pd.DataFrame(train, columns=['image', 'label'])\n",
        "test_df = pd.DataFrame(test, columns = ['image', 'label'])"
      ],
      "execution_count": null,
      "outputs": []
    },
    {
      "cell_type": "code",
      "metadata": {
        "id": "flX_WbQVzZGd"
      },
      "source": [
        "def lung_condition(label):\n",
        "    if label == 'NORMAL':\n",
        "        return 0\n",
        "    else:\n",
        "        return 1"
      ],
      "execution_count": null,
      "outputs": []
    },
    {
      "cell_type": "code",
      "metadata": {
        "id": "ulr_ftXezjcL"
      },
      "source": [
        "# Function for dividing data into arrays X and y\n",
        "\n",
        "def splitdata(data):\n",
        "    X = []\n",
        "    y = []\n",
        "    for i, (val, label) in enumerate(data):\n",
        "        X.append(val)\n",
        "        y.append(lung_condition(label))\n",
        "    return np.array(X), np.array(y)"
      ],
      "execution_count": null,
      "outputs": []
    },
    {
      "cell_type": "code",
      "metadata": {
        "id": "sq_fFyc8zn2w"
      },
      "source": [
        "# Split the data\n",
        "\n",
        "\n",
        "np.random.shuffle(train)\n",
        "np.random.shuffle(test)\n",
        "X_train, y_train = splitdata(train)\n",
        "X_test, y_test = splitdata(test)\n"
      ],
      "execution_count": null,
      "outputs": []
    },
    {
      "cell_type": "markdown",
      "metadata": {
        "id": "E_XNBs0y6CTY"
      },
      "source": [
        "# Modeling"
      ]
    },
    {
      "cell_type": "code",
      "metadata": {
        "id": "fbQZD6HKz1eu",
        "colab": {
          "base_uri": "https://localhost:8080/"
        },
        "outputId": "4e7d1347-2524-4698-c163-f59daa0da484"
      },
      "source": [
        "# Add preprocessing layer to the front of VGG16\n",
        "\n",
        "# Change img_size before running this cell\n",
        "\n",
        "vgg = VGG16(input_shape = img_size + [3], \n",
        "            weights = 'imagenet',\n",
        "            include_top=False)\n",
        "\n",
        "\n",
        "# Don't train existing weights\n",
        "\n",
        "for layer in vgg.layers:\n",
        "  layer.trainable = False"
      ],
      "execution_count": null,
      "outputs": [
        {
          "output_type": "stream",
          "name": "stdout",
          "text": [
            "Downloading data from https://storage.googleapis.com/tensorflow/keras-applications/vgg16/vgg16_weights_tf_dim_ordering_tf_kernels_notop.h5\n",
            "58892288/58889256 [==============================] - 0s 0us/step\n",
            "58900480/58889256 [==============================] - 0s 0us/step\n"
          ]
        }
      ]
    },
    {
      "cell_type": "code",
      "metadata": {
        "id": "Rnp64LQZ4Urv"
      },
      "source": [
        "# Adding more layers in our VGG16 model\n",
        "\n",
        "categories = [\"NORMAL\", \"PNEUMONIA\"]\n",
        "\n",
        "x = Flatten()(vgg.output)\n",
        "x = Dense(1000, activation='relu')(x)\n",
        "\n",
        "# This is the Last Layer with softmax activation for binary outputs\n",
        "\n",
        "prediction = Dense(len(categories), activation='softmax')(x)"
      ],
      "execution_count": null,
      "outputs": []
    },
    {
      "cell_type": "code",
      "metadata": {
        "colab": {
          "base_uri": "https://localhost:8080/"
        },
        "id": "nMv71kSr5qb4",
        "outputId": "76915fbc-2988-4bcc-b5af-c9915741c096"
      },
      "source": [
        "# Create a model object\n",
        "\n",
        "model = Model(inputs=vgg.input, outputs=prediction)\n",
        "\n",
        "# View the structure of the model\n",
        "\n",
        "model.summary()"
      ],
      "execution_count": null,
      "outputs": [
        {
          "output_type": "stream",
          "name": "stdout",
          "text": [
            "Model: \"model\"\n",
            "_________________________________________________________________\n",
            " Layer (type)                Output Shape              Param #   \n",
            "=================================================================\n",
            " input_1 (InputLayer)        [(None, 200, 200, 3)]     0         \n",
            "                                                                 \n",
            " block1_conv1 (Conv2D)       (None, 200, 200, 64)      1792      \n",
            "                                                                 \n",
            " block1_conv2 (Conv2D)       (None, 200, 200, 64)      36928     \n",
            "                                                                 \n",
            " block1_pool (MaxPooling2D)  (None, 100, 100, 64)      0         \n",
            "                                                                 \n",
            " block2_conv1 (Conv2D)       (None, 100, 100, 128)     73856     \n",
            "                                                                 \n",
            " block2_conv2 (Conv2D)       (None, 100, 100, 128)     147584    \n",
            "                                                                 \n",
            " block2_pool (MaxPooling2D)  (None, 50, 50, 128)       0         \n",
            "                                                                 \n",
            " block3_conv1 (Conv2D)       (None, 50, 50, 256)       295168    \n",
            "                                                                 \n",
            " block3_conv2 (Conv2D)       (None, 50, 50, 256)       590080    \n",
            "                                                                 \n",
            " block3_conv3 (Conv2D)       (None, 50, 50, 256)       590080    \n",
            "                                                                 \n",
            " block3_pool (MaxPooling2D)  (None, 25, 25, 256)       0         \n",
            "                                                                 \n",
            " block4_conv1 (Conv2D)       (None, 25, 25, 512)       1180160   \n",
            "                                                                 \n",
            " block4_conv2 (Conv2D)       (None, 25, 25, 512)       2359808   \n",
            "                                                                 \n",
            " block4_conv3 (Conv2D)       (None, 25, 25, 512)       2359808   \n",
            "                                                                 \n",
            " block4_pool (MaxPooling2D)  (None, 12, 12, 512)       0         \n",
            "                                                                 \n",
            " block5_conv1 (Conv2D)       (None, 12, 12, 512)       2359808   \n",
            "                                                                 \n",
            " block5_conv2 (Conv2D)       (None, 12, 12, 512)       2359808   \n",
            "                                                                 \n",
            " block5_conv3 (Conv2D)       (None, 12, 12, 512)       2359808   \n",
            "                                                                 \n",
            " block5_pool (MaxPooling2D)  (None, 6, 6, 512)         0         \n",
            "                                                                 \n",
            " flatten (Flatten)           (None, 18432)             0         \n",
            "                                                                 \n",
            " dense (Dense)               (None, 1000)              18433000  \n",
            "                                                                 \n",
            " dense_1 (Dense)             (None, 2)                 2002      \n",
            "                                                                 \n",
            "=================================================================\n",
            "Total params: 33,149,690\n",
            "Trainable params: 18,435,002\n",
            "Non-trainable params: 14,714,688\n",
            "_________________________________________________________________\n"
          ]
        }
      ]
    },
    {
      "cell_type": "code",
      "metadata": {
        "id": "s0Dw2viq6fMD"
      },
      "source": [
        "# Tell the model what cost and optimization method to use\n",
        "\n",
        "model.compile(\n",
        "  loss='categorical_crossentropy',\n",
        "  optimizer='adam',\n",
        "  metrics=['accuracy']\n",
        ")"
      ],
      "execution_count": null,
      "outputs": []
    },
    {
      "cell_type": "markdown",
      "metadata": {
        "id": "33HqulWi5puW"
      },
      "source": [
        "## Preparing images for the model"
      ]
    },
    {
      "cell_type": "code",
      "metadata": {
        "id": "7Hk1HNJb6nb_"
      },
      "source": [
        "train_datagen = ImageDataGenerator(rescale = 1./255,\n",
        "                                   shear_range = 0.2,\n",
        "                                   zoom_range = 0.2,\n",
        "                                   horizontal_flip = True)\n",
        "\n",
        "test_datagen = ImageDataGenerator(rescale = 1./255)"
      ],
      "execution_count": null,
      "outputs": []
    },
    {
      "cell_type": "code",
      "metadata": {
        "colab": {
          "base_uri": "https://localhost:8080/"
        },
        "id": "VuzLkUR56t3u",
        "outputId": "1148c0e8-efb6-48d4-f408-33d0cf1be72a"
      },
      "source": [
        "training_set = train_datagen.flow_from_directory(train_path,\n",
        "                                                 target_size = (200, 200),\n",
        "                                                 batch_size = 32,\n",
        "                                                 class_mode = 'categorical')\n",
        "\n",
        "test_set = test_datagen.flow_from_directory(test_path,\n",
        "                                            target_size = (200, 200),\n",
        "                                            batch_size = 32,\n",
        "                                            class_mode = 'categorical')\n"
      ],
      "execution_count": null,
      "outputs": [
        {
          "output_type": "stream",
          "name": "stdout",
          "text": [
            "Found 5216 images belonging to 2 classes.\n",
            "Found 624 images belonging to 2 classes.\n"
          ]
        }
      ]
    },
    {
      "cell_type": "code",
      "metadata": {
        "colab": {
          "base_uri": "https://localhost:8080/"
        },
        "id": "YOaqgJ1H6zaF",
        "outputId": "33927af5-9096-4533-d61b-e56a8b9a92e1"
      },
      "source": [
        "# Fit the model\n",
        "\n",
        "r = model.fit_generator(\n",
        "  training_set,\n",
        "  validation_data=test_set,\n",
        "  epochs=5,\n",
        "  steps_per_epoch=len(training_set),\n",
        "  validation_steps=len(test_set)\n",
        ")"
      ],
      "execution_count": null,
      "outputs": [
        {
          "output_type": "stream",
          "name": "stderr",
          "text": [
            "/usr/local/lib/python3.7/dist-packages/ipykernel_launcher.py:8: UserWarning: `Model.fit_generator` is deprecated and will be removed in a future version. Please use `Model.fit`, which supports generators.\n",
            "  \n"
          ]
        },
        {
          "output_type": "stream",
          "name": "stdout",
          "text": [
            "Epoch 1/5\n",
            "163/163 [==============================] - 2165s 13s/step - loss: 0.4301 - accuracy: 0.9162 - val_loss: 0.3101 - val_accuracy: 0.8814\n",
            "Epoch 2/5\n",
            "163/163 [==============================] - 2126s 13s/step - loss: 0.1486 - accuracy: 0.9427 - val_loss: 0.2778 - val_accuracy: 0.9087\n",
            "Epoch 3/5\n",
            "163/163 [==============================] - 2124s 13s/step - loss: 0.1027 - accuracy: 0.9592 - val_loss: 0.3124 - val_accuracy: 0.9038\n",
            "Epoch 4/5\n",
            "163/163 [==============================] - 2124s 13s/step - loss: 0.0957 - accuracy: 0.9655 - val_loss: 0.2580 - val_accuracy: 0.9167\n",
            "Epoch 5/5\n",
            "163/163 [==============================] - 2122s 13s/step - loss: 0.0978 - accuracy: 0.9626 - val_loss: 0.2436 - val_accuracy: 0.9183\n"
          ]
        }
      ]
    },
    {
      "cell_type": "code",
      "metadata": {
        "id": "sCWEhjRRyFgA"
      },
      "source": [
        "# Save trained model\n",
        "\n",
        "model.save('/content/drive/MyDrive/Phase_04_project/vgg16_model_1.h5')"
      ],
      "execution_count": null,
      "outputs": []
    },
    {
      "cell_type": "code",
      "metadata": {
        "id": "MCJxi8hk684f",
        "colab": {
          "base_uri": "https://localhost:8080/",
          "height": 295
        },
        "outputId": "a4c761ff-cf86-4824-e0e8-bcabada962ec"
      },
      "source": [
        "# Plot the the model\n",
        "\n",
        "fig, ax = plt.subplots(figsize=(20, 4), nrows=1, ncols=2)\n",
        "\n",
        "plt.title(\"model accuracy\")\n",
        "plt.ylabel(\"Accuracy\")\n",
        "plt.xlabel(\"Epoch\")\n",
        "\n",
        "ax[0].plot(r.history['loss'], color='b', label=\"Training Loss\")\n",
        "ax[0].plot(r.history['val_loss'], color='r', label=\"Testing Loss\",axes =ax[0])\n",
        "legend = ax[0].legend(loc='best', shadow=True)\n",
        "\n",
        "ax[1].plot(r.history['accuracy'], color='b', label=\"Training Accuracy\")\n",
        "ax[1].plot(r.history['val_accuracy'], color='r',label=\"Testing Accuracy\")\n",
        "legend = ax[1].legend(loc='best', shadow=True)"
      ],
      "execution_count": null,
      "outputs": [
        {
          "output_type": "display_data",
          "data": {
            "image/png": "[encoded data removed]",
            "text/plain": [
              "<Figure size 1440x288 with 2 Axes>"
            ]
          },
          "metadata": {
            "needs_background": "light"
          }
        }
      ]
    },
    {
      "cell_type": "markdown",
      "metadata": {
        "id": "i4emVTI-7uEe"
      },
      "source": [
        "# Evaluate"
      ]
    },
    {
      "cell_type": "code",
      "metadata": {
        "id": "3XSOJseg7ydF"
      },
      "source": [
        "val_path = '/content/drive/MyDrive/Phase_04_project/chest_xray/chest_xray/val'"
      ],
      "execution_count": null,
      "outputs": []
    },
    {
      "cell_type": "code",
      "metadata": {
        "id": "jTE0SKij8iAv"
      },
      "source": [
        "# re-size all the images to a size VGG-16 expects\n",
        "IMAGE_SIZE = [200, 200]\n",
        "\n",
        "# Set the batch size\n",
        "BATCH_SIZE = 32  \n",
        "NUM_EPOCHS = 5\n",
        "LEARNING_RATE = 0.0001\n",
        "NUM_CLASSES = 2 "
      ],
      "execution_count": null,
      "outputs": []
    },
    {
      "cell_type": "code",
      "metadata": {
        "colab": {
          "base_uri": "https://localhost:8080/"
        },
        "id": "PqKRzoV77-Z4",
        "outputId": "d70309a8-2073-4ab4-f013-e20d29a22ba2"
      },
      "source": [
        "# Generate Validation set\n",
        "\n",
        "\n",
        "validation_datagen = ImageDataGenerator(rescale = 1./255)\n",
        "\n",
        "validation_set = validation_datagen.flow_from_directory(\n",
        "    directory = val_path,\n",
        "    target_size = (200, 200),\n",
        "    batch_size = BATCH_SIZE,\n",
        "    class_mode = 'categorical'\n",
        ")"
      ],
      "execution_count": null,
      "outputs": [
        {
          "output_type": "stream",
          "name": "stdout",
          "text": [
            "Found 16 images belonging to 2 classes.\n"
          ]
        }
      ]
    },
    {
      "cell_type": "code",
      "metadata": {
        "colab": {
          "base_uri": "https://localhost:8080/"
        },
        "id": "NYnKOpeY8vHG",
        "outputId": "40203e39-6dbe-47e5-be17-2f2373f43cbc"
      },
      "source": [
        "validation_steps = 200\n",
        "\n",
        "loss0,accuracy0 = model.evaluate(validation_set, steps = validation_steps)\n",
        "\n",
        "print(\"loss: {:.2f}\".format(loss0))\n",
        "print(\"accuracy: {:.2f}\".format(accuracy0))"
      ],
      "execution_count": null,
      "outputs": [
        {
          "output_type": "stream",
          "name": "stdout",
          "text": [
            "  1/200 [..............................] - ETA: 20:09 - loss: 0.1247 - accuracy: 0.9375WARNING:tensorflow:Your input ran out of data; interrupting training. Make sure that your dataset or generator can generate at least `steps_per_epoch * epochs` batches (in this case, 200 batches). You may need to use the repeat() function when building your dataset.\n",
            "200/200 [==============================] - 6s 205us/step - loss: 0.1247 - accuracy: 0.9375\n",
            "loss: 0.12\n",
            "accuracy: 0.94\n"
          ]
        }
      ]
    },
    {
      "cell_type": "code",
      "metadata": {
        "colab": {
          "base_uri": "https://localhost:8080/"
        },
        "id": "BEabdrjH8y9X",
        "outputId": "8594ac42-ccba-417a-8f0a-b1a0ef64ae80"
      },
      "source": [
        "# Generate Validation set.\n",
        "validation_set2 = validation_datagen.flow_from_directory(\n",
        "    directory = val_path,\n",
        "    target_size = (224, 224),\n",
        "    batch_size = 1,\n",
        "    shuffle=False, \n",
        "    seed=42, \n",
        "    class_mode=\"binary\"\n",
        ")\n",
        "\n",
        "# validation_set2.reset()"
      ],
      "execution_count": null,
      "outputs": [
        {
          "output_type": "stream",
          "name": "stdout",
          "text": [
            "Found 16 images belonging to 2 classes.\n"
          ]
        }
      ]
    },
    {
      "cell_type": "code",
      "metadata": {
        "colab": {
          "base_uri": "https://localhost:8080/"
        },
        "id": "S4qzrKis9Aca",
        "outputId": "279bdd3a-e050-43a4-e28e-09cb8e598a9b"
      },
      "source": [
        "\n",
        "val = model.evaluate(validation_set, steps = validation_steps)\n",
        "\n",
        "print(\"loss: {:.2f}\".format(val[0]))\n",
        "print(\"accuracy: {:.2f}\".format(val[1]))"
      ],
      "execution_count": null,
      "outputs": [
        {
          "output_type": "stream",
          "name": "stdout",
          "text": [
            "  1/200 [..............................] - ETA: 19:10 - loss: 0.1247 - accuracy: 0.9375WARNING:tensorflow:Your input ran out of data; interrupting training. Make sure that your dataset or generator can generate at least `steps_per_epoch * epochs` batches (in this case, 200 batches). You may need to use the repeat() function when building your dataset.\n",
            "200/200 [==============================] - 6s 165us/step - loss: 0.1247 - accuracy: 0.9375\n",
            "loss: 0.12\n",
            "accuracy: 0.94\n"
          ]
        }
      ]
    },
    {
      "cell_type": "markdown",
      "metadata": {
        "id": "mcrFWWW46KpY"
      },
      "source": [
        "# VGG16 model Summary:\n",
        "\n",
        "* Best accuracy this pretrained model acheived was ~94%\n",
        "\n",
        "* The confusion matrix shows that\n",
        "\n",
        "* The model is overfitting, quite a bit. We can see around Epoch 20 on the Binary Accuracy graph that the model doesn't not improve.\n",
        "\n",
        "* This model could be improved/tuned by using differnet activation functions, trying different optimizers, including early stopping and different degrees of dropouts."
      ]
    },
    {
      "cell_type": "markdown",
      "metadata": {
        "id": "mg5bxfUa6eGL"
      },
      "source": [
        "# Use trained model to make predictions"
      ]
    },
    {
      "cell_type": "code",
      "metadata": {
        "id": "BXmcwZlSzbzG"
      },
      "source": [
        "# Load the saved trained model\n",
        "\n",
        "\n",
        "model = load_model('/content/drive/MyDrive/Phase_04_project/vgg16_model_1.h5')"
      ],
      "execution_count": null,
      "outputs": []
    },
    {
      "cell_type": "code",
      "metadata": {
        "id": "9yMD_LQS15HN"
      },
      "source": [
        "# Path to images\n",
        "\n",
        "normal_images_list = glob(\"/content/drive/MyDrive/Phase_04_project/chest_xray/chest_xray/val/NORMAL/*\")\n",
        "\n",
        "infected_images_list = glob(\"/content/drive/MyDrive/Phase_04_project/chest_xray/chest_xray/val/PNEUMONIA/*\")\n"
      ],
      "execution_count": null,
      "outputs": []
    },
    {
      "cell_type": "code",
      "metadata": {
        "id": "j2qWkF7w27_i"
      },
      "source": [
        "from PIL import Image\n",
        "from glob import glob"
      ],
      "execution_count": null,
      "outputs": []
    },
    {
      "cell_type": "code",
      "metadata": {
        "id": "ivVfNRRu2PDW"
      },
      "source": [
        "# Function to read images, predict, and dislpay X-ray\n",
        "\n",
        "def predict_image(image_path):\n",
        "    img = image.load_img(image_path, target_size=(200, 200))\n",
        "\n",
        "    x = image.img_to_array(img)\n",
        "    x = np.expand_dims(x, axis=0)\n",
        "\n",
        "    img_data = preprocess_input(x)\n",
        "    classes = model.predict(img_data)\n",
        "    \n",
        "    pred_class = classes[0]\n",
        "    \n",
        "    display(img)\n",
        "\n",
        "    if pred_class[0] > pred_class[1]:\n",
        "        print(\"Normal Xray\")\n",
        "    else:\n",
        "        print(\"Pneumonia XRay\")"
      ],
      "execution_count": null,
      "outputs": []
    },
    {
      "cell_type": "code",
      "metadata": {
        "colab": {
          "base_uri": "https://localhost:8080/",
          "height": 234
        },
        "id": "DaVmdaLX2acv",
        "outputId": "e966694d-cdff-4e4f-eaa4-f9071d2df8f5"
      },
      "source": [
        "ramdom_noraml_img = normal_images_list[np.random.randint(len(normal_images_list))]\n",
        "\n",
        "predict_image(ramdom_noraml_img)"
      ],
      "execution_count": null,
      "outputs": [
        {
          "output_type": "display_data",
          "data": {
            "image/png": "[encoded data removed]",
            "text/plain": [
              "<PIL.Image.Image image mode=RGB size=200x200 at 0x7F21D2752C50>"
            ]
          },
          "metadata": {}
        },
        {
          "output_type": "stream",
          "name": "stdout",
          "text": [
            "Normal Xray\n"
          ]
        }
      ]
    },
    {
      "cell_type": "code",
      "metadata": {
        "colab": {
          "base_uri": "https://localhost:8080/",
          "height": 234
        },
        "id": "qP4KnjdD3x9E",
        "outputId": "d744f017-1610-43cb-c117-ad55c40d07d1"
      },
      "source": [
        "ramdom_infected_img = normal_images_list[np.random.randint(len(infected_images_list))]\n",
        "\n",
        "predict_image(ramdom_infected_img)\n"
      ],
      "execution_count": null,
      "outputs": [
        {
          "output_type": "display_data",
          "data": {
            "image/png": "[encoded data removed]",
            "text/plain": [
              "<PIL.Image.Image image mode=RGB size=200x200 at 0x7F21D279C210>"
            ]
          },
          "metadata": {}
        },
        {
          "output_type": "stream",
          "name": "stdout",
          "text": [
            "Pneumonia XRay\n"
          ]
        }
      ]
    }
  ]
}
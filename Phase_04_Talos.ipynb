{
  "nbformat": 4,
  "nbformat_minor": 0,
  "metadata": {
    "colab": {
      "name": "Phase_04_Talos.ipynb",
      "provenance": [],
      "collapsed_sections": [],
      "authorship_tag": "ABX9TyMDdQrHqQ4Tm3pweqYh9rrk",
      "include_colab_link": true
    },
    "kernelspec": {
      "name": "python3",
      "display_name": "Python 3"
    },
    "language_info": {
      "name": "python"
    }
  },
  "cells": [
    {
      "cell_type": "markdown",
      "metadata": {
        "id": "view-in-github",
        "colab_type": "text"
      },
      "source": [
        "<a href=\"https://colab.research.google.com/github/reynoso811/Image-Classification-Pneumonia-X-rays-/blob/main/Phase_04_Talos.ipynb\" target=\"_parent\"><img src=\"https://colab.research.google.com/assets/colab-badge.svg\" alt=\"Open In Colab\"/></a>"
      ]
    },
    {
      "cell_type": "code",
      "metadata": {
        "colab": {
          "base_uri": "https://localhost:8080/"
        },
        "id": "BO3EfBsd4QbT",
        "outputId": "ccf95b85-d73c-4580-bd52-67d612edbcd5"
      },
      "source": [
        "import numpy as np\n",
        "import pandas as pd \n",
        "import random as rn\n",
        "\n",
        "# tensorflow\n",
        "import tensorflow.random as tfr\n",
        "import tensorflow.keras as keras\n",
        "from tensorflow.keras import layers\n",
        "from tensorflow.keras.models import Sequential, load_model\n",
        "from tensorflow.keras.layers import Dense, Dropout, Flatten, Lambda, Input\n",
        "from tensorflow.keras.layers import Conv2D, MaxPool2D, MaxPooling2D, BatchNormalization\n",
        "from keras.models import Model\n",
        "from keras.applications.vgg16 import VGG16\n",
        "from keras.applications.vgg16 import preprocess_input\n",
        "from keras.preprocessing import image\n",
        "from tensorflow.keras import backend as K\n",
        "from tensorflow.keras.utils import to_categorical\n",
        "from tensorflow.keras.optimizers import RMSprop, Adam\n",
        "from tensorflow.keras.preprocessing.image import ImageDataGenerator\n",
        "from tensorflow.keras.callbacks import EarlyStopping, ReduceLROnPlateau, ModelCheckpoint\n",
        "\n",
        "# Plotting\n",
        "import matplotlib.pyplot as plt\n",
        "import matplotlib.image as mpimg\n",
        "\n",
        "import seaborn as sns\n",
        "\n",
        "from skimage import color, exposure\n",
        "from sklearn.metrics import classification_report\n",
        "\n",
        "import os\n",
        "import cv2\n",
        "\n",
        "# Setting the same seed for repeatability\n",
        "\n",
        "seed = 0\n",
        "\n",
        "np.random.seed(seed) \n",
        "rn.seed(seed)\n",
        "tfr.set_seed(seed)\n",
        "\n",
        "# Display graphs in a Jupyter\n",
        "%matplotlib inline\n",
        "\n",
        "print(\"Imported\")"
      ],
      "execution_count": null,
      "outputs": [
        {
          "output_type": "stream",
          "name": "stdout",
          "text": [
            "Imported\n"
          ]
        }
      ]
    },
    {
      "cell_type": "code",
      "metadata": {
        "colab": {
          "base_uri": "https://localhost:8080/"
        },
        "id": "g8tXePv26RMp",
        "outputId": "1d558109-a5c3-4388-cf52-aac2e30812ee"
      },
      "source": [
        "# Google Drive connection\n",
        "\n",
        "from google.colab import drive\n",
        "drive.mount('/content/drive')"
      ],
      "execution_count": null,
      "outputs": [
        {
          "output_type": "stream",
          "name": "stdout",
          "text": [
            "Drive already mounted at /content/drive; to attempt to forcibly remount, call drive.mount(\"/content/drive\", force_remount=True).\n"
          ]
        }
      ]
    },
    {
      "cell_type": "code",
      "metadata": {
        "id": "ZcBfhayM6ZUK"
      },
      "source": [
        "# Create a path to the root folder and path to specific folders\n",
        "\n",
        "data_path = '/content/drive/MyDrive/Phase_04_project/chest_xray/chest_xray/'\n",
        "data_path\n",
        "\n",
        "train_path = data_path + 'train/'\n",
        "test_path = data_path + 'test/'\n",
        "val_path = data_path + 'val/'"
      ],
      "execution_count": null,
      "outputs": []
    },
    {
      "cell_type": "code",
      "metadata": {
        "id": "pLeJR1y66dS2"
      },
      "source": [
        "# Optimal image size for modeling\n",
        "\n",
        "img_size = 200"
      ],
      "execution_count": null,
      "outputs": []
    },
    {
      "cell_type": "code",
      "metadata": {
        "id": "c0kADeMC6fVY"
      },
      "source": [
        "# Custom function to read data from folders\n",
        "# Returns numpy array [img, label]\n",
        "\n",
        "def read_data(data_paths):\n",
        "    for data_path in data_paths:\n",
        "        labels = ['PNEUMONIA', 'NORMAL']\n",
        "        images = []\n",
        "        y = []\n",
        "        for label in labels:\n",
        "            curr_path = data_path + label\n",
        "            for img in os.listdir(curr_path):\n",
        "                if ('DS' not in img):\n",
        "                    image_path = os.path.join(curr_path, img)\n",
        "                    image =  cv2.resize(cv2.imread(image_path), (img_size, img_size))\n",
        "                    if image is not None:\n",
        "                        images.append([image, label])\n",
        "                \n",
        "    images = np.asarray(images)\n",
        "    return images"
      ],
      "execution_count": null,
      "outputs": []
    },
    {
      "cell_type": "code",
      "metadata": {
        "colab": {
          "base_uri": "https://localhost:8080/"
        },
        "id": "mkhOGKpL6h1K",
        "outputId": "e96fd88c-6219-4296-ad1d-64120b0194aa"
      },
      "source": [
        "%%time\n",
        "train = read_data([train_path])\n",
        "test = read_data([val_path, test_path])"
      ],
      "execution_count": null,
      "outputs": [
        {
          "output_type": "stream",
          "name": "stderr",
          "text": [
            "/usr/local/lib/python3.7/dist-packages/numpy/core/_asarray.py:83: VisibleDeprecationWarning: Creating an ndarray from ragged nested sequences (which is a list-or-tuple of lists-or-tuples-or ndarrays with different lengths or shapes) is deprecated. If you meant to do this, you must specify 'dtype=object' when creating the ndarray\n",
            "  return array(a, dtype, copy=False, order=order)\n"
          ]
        },
        {
          "output_type": "stream",
          "name": "stdout",
          "text": [
            "CPU times: user 1min 28s, sys: 4.54 s, total: 1min 33s\n",
            "Wall time: 1min 52s\n"
          ]
        }
      ]
    },
    {
      "cell_type": "code",
      "metadata": {
        "id": "sVkpGvFJ6mSr"
      },
      "source": [
        "# Shuffle the data\n",
        "\n",
        "for i in range(10):\n",
        "    np.random.shuffle(train)\n",
        "    np.random.shuffle(test)"
      ],
      "execution_count": null,
      "outputs": []
    },
    {
      "cell_type": "code",
      "metadata": {
        "id": "k-DZ69fiBEJb"
      },
      "source": [
        "# Create data frame for visualization\n",
        "\n",
        "train_df = pd.DataFrame(train, columns=['image', 'label'])\n",
        "test_df = pd.DataFrame(test, columns = ['image', 'label'])"
      ],
      "execution_count": null,
      "outputs": []
    },
    {
      "cell_type": "code",
      "metadata": {
        "id": "UhIzQdHuBGn6"
      },
      "source": [
        "def lung_condition(label):\n",
        "    if label == 'NORMAL':\n",
        "        return 0\n",
        "    else:\n",
        "        return 1"
      ],
      "execution_count": null,
      "outputs": []
    },
    {
      "cell_type": "code",
      "metadata": {
        "id": "Krb87fhDBK-x"
      },
      "source": [
        "# Function for dividing data into arrays X and y\n",
        "\n",
        "def splitdata(data):\n",
        "    X = []\n",
        "    y = []\n",
        "    for i, (val, label) in enumerate(data):\n",
        "        X.append(val)\n",
        "        y.append(lung_condition(label))\n",
        "    return np.array(X), np.array(y)"
      ],
      "execution_count": null,
      "outputs": []
    },
    {
      "cell_type": "code",
      "metadata": {
        "id": "p4134x29BN-V"
      },
      "source": [
        "# Split the data\n",
        "\n",
        "np.random.shuffle(train)\n",
        "np.random.shuffle(test)\n",
        "X_train, y_train = splitdata(train)\n",
        "X_test, y_test = splitdata(test)\n"
      ],
      "execution_count": null,
      "outputs": []
    },
    {
      "cell_type": "code",
      "metadata": {
        "id": "TubFf-GZBbX-"
      },
      "source": [
        "# Function for drawing learning curve history on learning neural network\n",
        "\n",
        "def draw_learning_curve(history, keys=['accuracy', 'loss']):\n",
        "    plt.figure(figsize=(20,8))\n",
        "    for i, key in enumerate(keys):\n",
        "        plt.subplot(1, 2, i + 1)\n",
        "        sns.lineplot(x = history.epoch, y = history.history[key])\n",
        "        sns.lineplot(x = history.epoch, y = history.history['val_' + key])\n",
        "        plt.title('Learning Curve')\n",
        "        plt.ylabel(key.title())\n",
        "        plt.xlabel('Epoch')\n",
        "#         plt.ylim(ylim)\n",
        "        plt.legend(['train', 'test'], loc='best')\n",
        "    plt.show()"
      ],
      "execution_count": null,
      "outputs": []
    },
    {
      "cell_type": "code",
      "metadata": {
        "id": "9HVVS573BpCb"
      },
      "source": [
        "# Lee code"
      ],
      "execution_count": null,
      "outputs": []
    },
    {
      "cell_type": "code",
      "metadata": {
        "id": "ntsqZrxwFj6h"
      },
      "source": [
        "#create function that helps us visualize our model\n",
        "def visualize_training_results(results):\n",
        "    history = results.history\n",
        "    plt.figure()\n",
        "    plt.plot(history['val_loss'])\n",
        "    plt.plot(history['loss'])\n",
        "    plt.legend(['val_loss', 'loss'])\n",
        "    plt.title('Loss')\n",
        "    plt.xlabel('Epochs')\n",
        "    plt.ylabel('Loss')\n",
        "    plt.show()\n",
        "    \n",
        "    plt.figure()\n",
        "    plt.plot(history['val_accuracy'])\n",
        "    plt.plot(history['accuracy'])\n",
        "    plt.legend(['val_acc_accuracy', 'accuracy'])\n",
        "    plt.title('Accuracy')\n",
        "    plt.xlabel('Epochs')\n",
        "    plt.ylabel('Accuracy')\n",
        "    plt.show()"
      ],
      "execution_count": null,
      "outputs": []
    },
    {
      "cell_type": "code",
      "metadata": {
        "id": "WzsoEqY9FoTj"
      },
      "source": [
        "#set image dimensions\n",
        "IMG_HEIGHT = 224\n",
        "IMG_WIDTH = 224\n",
        "batch_size = 624"
      ],
      "execution_count": null,
      "outputs": []
    },
    {
      "cell_type": "code",
      "metadata": {
        "id": "wnr0HessFou7"
      },
      "source": [
        "image_gen = ImageDataGenerator(rescale = 1./255)"
      ],
      "execution_count": null,
      "outputs": []
    },
    {
      "cell_type": "code",
      "metadata": {
        "colab": {
          "base_uri": "https://localhost:8080/"
        },
        "id": "JDtUuzDoFqt6",
        "outputId": "e1072fc0-426f-4ea7-a809-ba98ca756fcd"
      },
      "source": [
        "train_data_gen = image_gen.flow_from_directory(\n",
        "    directory=train_path,\n",
        "    shuffle=True,\n",
        "    target_size=(IMG_HEIGHT, IMG_WIDTH),\n",
        "    batch_size= 5216,\n",
        "    class_mode='binary')"
      ],
      "execution_count": null,
      "outputs": [
        {
          "output_type": "stream",
          "name": "stdout",
          "text": [
            "Found 5216 images belonging to 2 classes.\n"
          ]
        }
      ]
    },
    {
      "cell_type": "code",
      "metadata": {
        "colab": {
          "base_uri": "https://localhost:8080/"
        },
        "id": "fn9CQKgpGL9W",
        "outputId": "cc704734-bfdb-4616-b207-e7bbd6cfbfa1"
      },
      "source": [
        "test_data_gen = image_gen.flow_from_directory(\n",
        "    directory = test_path,\n",
        "    target_size = (IMG_HEIGHT, IMG_WIDTH),\n",
        "    batch_size = batch_size,\n",
        "    class_mode='binary')"
      ],
      "execution_count": null,
      "outputs": [
        {
          "output_type": "stream",
          "name": "stdout",
          "text": [
            "Found 624 images belonging to 2 classes.\n"
          ]
        }
      ]
    },
    {
      "cell_type": "code",
      "metadata": {
        "id": "kBpS8-owGT0g"
      },
      "source": [
        "#creating X and y test, train datasets\n",
        "X_train, y_train = next(train_data_gen)\n",
        "X_test, y_test = next(test_data_gen)"
      ],
      "execution_count": null,
      "outputs": []
    },
    {
      "cell_type": "code",
      "metadata": {
        "id": "vlWuBKX6G5pQ"
      },
      "source": [
        "#in order to tune our CNN, we need to figure out what parameters work the best \n",
        "#Below are the parameters I've chosen:\n",
        "params = {'dropout': [0.1, 0.3, 0.5],\n",
        "          'optimizer': ['adam', 'sgd'],\n",
        "          'activation1': ['relu', 'tanh']}"
      ],
      "execution_count": null,
      "outputs": []
    },
    {
      "cell_type": "code",
      "metadata": {
        "id": "jYkRHNjpHCLz"
      },
      "source": [
        "#use generic CNN model with parameters options.\n",
        "def tuned_model(X_train, y_train, X_test, y_test, params):\n",
        "    model = Sequential()\n",
        "    model.add(layers.Conv2D(32, (3, 3), activation=params['activation1'], input_shape=(IMG_HEIGHT, IMG_WIDTH, 3), padding='same'))\n",
        "    model.add(layers.MaxPool2D(pool_size=(2, 2)))\n",
        "    model.add(layers.Conv2D(64, (3, 3), activation=params['activation1'], padding='same'))\n",
        "    model.add(layers.MaxPool2D(pool_size=(2, 2)))\n",
        "    model.add(layers.Conv2D(128, (3, 3), activation=params['activation1'], padding='same'))\n",
        "    model.add(layers.MaxPool2D(pool_size=(3, 3)))\n",
        "    model.add(layers.Flatten())\n",
        "    model.add(layers.Dense(120, activation=params['activation1']))\n",
        "    model.add(layers.Dense(60, activation=params['activation1']))\n",
        "    model.add(layers.Dropout(params['dropout']))\n",
        "    model.add(layers.Dense(1, activation='sigmoid'))\n",
        "\n",
        "    model.compile(loss='binary_crossentropy', optimizer=params['optimizer'], metrics='accuracy')\n",
        "    es = EarlyStopping(patience=20, monitor= 'val_accuracy', restore_best_weights=True)\n",
        "\n",
        "    out = model.fit(X_train, \n",
        "                y_train,\n",
        "                batch_size = 50,\n",
        "                epochs = 30,\n",
        "                validation_data=(X_test, y_test),\n",
        "                callbacks = es)\n",
        "\n",
        "    return out, model"
      ],
      "execution_count": null,
      "outputs": []
    },
    {
      "cell_type": "code",
      "metadata": {
        "colab": {
          "base_uri": "https://localhost:8080/"
        },
        "id": "fhhhdn0MHbu_",
        "outputId": "d8cef9b8-d971-43f3-b08a-60360a35d0b3"
      },
      "source": [
        "!pip install talos"
      ],
      "execution_count": null,
      "outputs": [
        {
          "output_type": "stream",
          "name": "stdout",
          "text": [
            "Requirement already satisfied: talos in /usr/local/lib/python3.7/dist-packages (1.0)\n",
            "Requirement already satisfied: chances in /usr/local/lib/python3.7/dist-packages (from talos) (0.1.9)\n",
            "Requirement already satisfied: statsmodels>=0.11.0 in /usr/local/lib/python3.7/dist-packages (from talos) (0.13.1)\n",
            "Requirement already satisfied: sklearn in /usr/local/lib/python3.7/dist-packages (from talos) (0.0)\n",
            "Requirement already satisfied: requests in /usr/local/lib/python3.7/dist-packages (from talos) (2.23.0)\n",
            "Requirement already satisfied: tqdm in /usr/local/lib/python3.7/dist-packages (from talos) (4.62.3)\n",
            "Requirement already satisfied: pandas in /usr/local/lib/python3.7/dist-packages (from talos) (1.1.5)\n",
            "Requirement already satisfied: astetik in /usr/local/lib/python3.7/dist-packages (from talos) (1.11.1)\n",
            "Requirement already satisfied: kerasplotlib in /usr/local/lib/python3.7/dist-packages (from talos) (0.1.6)\n",
            "Requirement already satisfied: wrangle in /usr/local/lib/python3.7/dist-packages (from talos) (0.6.9)\n",
            "Requirement already satisfied: numpy in /usr/local/lib/python3.7/dist-packages (from talos) (1.19.5)\n",
            "Requirement already satisfied: tensorflow>=2.0.0 in /usr/local/lib/python3.7/dist-packages (from talos) (2.7.0)\n",
            "Requirement already satisfied: scipy>=1.3 in /usr/local/lib/python3.7/dist-packages (from statsmodels>=0.11.0->talos) (1.4.1)\n",
            "Requirement already satisfied: patsy>=0.5.2 in /usr/local/lib/python3.7/dist-packages (from statsmodels>=0.11.0->talos) (0.5.2)\n",
            "Requirement already satisfied: pytz>=2017.2 in /usr/local/lib/python3.7/dist-packages (from pandas->talos) (2018.9)\n",
            "Requirement already satisfied: python-dateutil>=2.7.3 in /usr/local/lib/python3.7/dist-packages (from pandas->talos) (2.8.2)\n",
            "Requirement already satisfied: six in /usr/local/lib/python3.7/dist-packages (from patsy>=0.5.2->statsmodels>=0.11.0->talos) (1.15.0)\n",
            "Requirement already satisfied: keras<2.8,>=2.7.0rc0 in /usr/local/lib/python3.7/dist-packages (from tensorflow>=2.0.0->talos) (2.7.0)\n",
            "Requirement already satisfied: flatbuffers<3.0,>=1.12 in /usr/local/lib/python3.7/dist-packages (from tensorflow>=2.0.0->talos) (2.0)\n",
            "Requirement already satisfied: wheel<1.0,>=0.32.0 in /usr/local/lib/python3.7/dist-packages (from tensorflow>=2.0.0->talos) (0.37.0)\n",
            "Requirement already satisfied: astunparse>=1.6.0 in /usr/local/lib/python3.7/dist-packages (from tensorflow>=2.0.0->talos) (1.6.3)\n",
            "Requirement already satisfied: tensorboard~=2.6 in /usr/local/lib/python3.7/dist-packages (from tensorflow>=2.0.0->talos) (2.7.0)\n",
            "Requirement already satisfied: termcolor>=1.1.0 in /usr/local/lib/python3.7/dist-packages (from tensorflow>=2.0.0->talos) (1.1.0)\n",
            "Requirement already satisfied: typing-extensions>=3.6.6 in /usr/local/lib/python3.7/dist-packages (from tensorflow>=2.0.0->talos) (3.10.0.2)\n",
            "Requirement already satisfied: wrapt>=1.11.0 in /usr/local/lib/python3.7/dist-packages (from tensorflow>=2.0.0->talos) (1.13.3)\n",
            "Requirement already satisfied: keras-preprocessing>=1.1.1 in /usr/local/lib/python3.7/dist-packages (from tensorflow>=2.0.0->talos) (1.1.2)\n",
            "Requirement already satisfied: gast<0.5.0,>=0.2.1 in /usr/local/lib/python3.7/dist-packages (from tensorflow>=2.0.0->talos) (0.4.0)\n",
            "Requirement already satisfied: tensorflow-io-gcs-filesystem>=0.21.0 in /usr/local/lib/python3.7/dist-packages (from tensorflow>=2.0.0->talos) (0.22.0)\n",
            "Requirement already satisfied: google-pasta>=0.1.1 in /usr/local/lib/python3.7/dist-packages (from tensorflow>=2.0.0->talos) (0.2.0)\n",
            "Requirement already satisfied: h5py>=2.9.0 in /usr/local/lib/python3.7/dist-packages (from tensorflow>=2.0.0->talos) (3.1.0)\n",
            "Requirement already satisfied: grpcio<2.0,>=1.24.3 in /usr/local/lib/python3.7/dist-packages (from tensorflow>=2.0.0->talos) (1.42.0)\n",
            "Requirement already satisfied: protobuf>=3.9.2 in /usr/local/lib/python3.7/dist-packages (from tensorflow>=2.0.0->talos) (3.17.3)\n",
            "Requirement already satisfied: opt-einsum>=2.3.2 in /usr/local/lib/python3.7/dist-packages (from tensorflow>=2.0.0->talos) (3.3.0)\n",
            "Requirement already satisfied: absl-py>=0.4.0 in /usr/local/lib/python3.7/dist-packages (from tensorflow>=2.0.0->talos) (0.12.0)\n",
            "Requirement already satisfied: tensorflow-estimator<2.8,~=2.7.0rc0 in /usr/local/lib/python3.7/dist-packages (from tensorflow>=2.0.0->talos) (2.7.0)\n",
            "Requirement already satisfied: libclang>=9.0.1 in /usr/local/lib/python3.7/dist-packages (from tensorflow>=2.0.0->talos) (12.0.0)\n",
            "Requirement already satisfied: cached-property in /usr/local/lib/python3.7/dist-packages (from h5py>=2.9.0->tensorflow>=2.0.0->talos) (1.5.2)\n",
            "Requirement already satisfied: setuptools>=41.0.0 in /usr/local/lib/python3.7/dist-packages (from tensorboard~=2.6->tensorflow>=2.0.0->talos) (57.4.0)\n",
            "Requirement already satisfied: tensorboard-data-server<0.7.0,>=0.6.0 in /usr/local/lib/python3.7/dist-packages (from tensorboard~=2.6->tensorflow>=2.0.0->talos) (0.6.1)\n",
            "Requirement already satisfied: werkzeug>=0.11.15 in /usr/local/lib/python3.7/dist-packages (from tensorboard~=2.6->tensorflow>=2.0.0->talos) (1.0.1)\n",
            "Requirement already satisfied: google-auth<3,>=1.6.3 in /usr/local/lib/python3.7/dist-packages (from tensorboard~=2.6->tensorflow>=2.0.0->talos) (1.35.0)\n",
            "Requirement already satisfied: google-auth-oauthlib<0.5,>=0.4.1 in /usr/local/lib/python3.7/dist-packages (from tensorboard~=2.6->tensorflow>=2.0.0->talos) (0.4.6)\n",
            "Requirement already satisfied: markdown>=2.6.8 in /usr/local/lib/python3.7/dist-packages (from tensorboard~=2.6->tensorflow>=2.0.0->talos) (3.3.6)\n",
            "Requirement already satisfied: tensorboard-plugin-wit>=1.6.0 in /usr/local/lib/python3.7/dist-packages (from tensorboard~=2.6->tensorflow>=2.0.0->talos) (1.8.0)\n",
            "Requirement already satisfied: cachetools<5.0,>=2.0.0 in /usr/local/lib/python3.7/dist-packages (from google-auth<3,>=1.6.3->tensorboard~=2.6->tensorflow>=2.0.0->talos) (4.2.4)\n",
            "Requirement already satisfied: pyasn1-modules>=0.2.1 in /usr/local/lib/python3.7/dist-packages (from google-auth<3,>=1.6.3->tensorboard~=2.6->tensorflow>=2.0.0->talos) (0.2.8)\n",
            "Requirement already satisfied: rsa<5,>=3.1.4 in /usr/local/lib/python3.7/dist-packages (from google-auth<3,>=1.6.3->tensorboard~=2.6->tensorflow>=2.0.0->talos) (4.8)\n",
            "Requirement already satisfied: requests-oauthlib>=0.7.0 in /usr/local/lib/python3.7/dist-packages (from google-auth-oauthlib<0.5,>=0.4.1->tensorboard~=2.6->tensorflow>=2.0.0->talos) (1.3.0)\n",
            "Requirement already satisfied: importlib-metadata>=4.4 in /usr/local/lib/python3.7/dist-packages (from markdown>=2.6.8->tensorboard~=2.6->tensorflow>=2.0.0->talos) (4.8.2)\n",
            "Requirement already satisfied: zipp>=0.5 in /usr/local/lib/python3.7/dist-packages (from importlib-metadata>=4.4->markdown>=2.6.8->tensorboard~=2.6->tensorflow>=2.0.0->talos) (3.6.0)\n",
            "Requirement already satisfied: pyasn1<0.5.0,>=0.4.6 in /usr/local/lib/python3.7/dist-packages (from pyasn1-modules>=0.2.1->google-auth<3,>=1.6.3->tensorboard~=2.6->tensorflow>=2.0.0->talos) (0.4.8)\n",
            "Requirement already satisfied: certifi>=2017.4.17 in /usr/local/lib/python3.7/dist-packages (from requests->talos) (2021.10.8)\n",
            "Requirement already satisfied: idna<3,>=2.5 in /usr/local/lib/python3.7/dist-packages (from requests->talos) (2.10)\n",
            "Requirement already satisfied: urllib3!=1.25.0,!=1.25.1,<1.26,>=1.21.1 in /usr/local/lib/python3.7/dist-packages (from requests->talos) (1.24.3)\n",
            "Requirement already satisfied: chardet<4,>=3.0.2 in /usr/local/lib/python3.7/dist-packages (from requests->talos) (3.0.4)\n",
            "Requirement already satisfied: oauthlib>=3.0.0 in /usr/local/lib/python3.7/dist-packages (from requests-oauthlib>=0.7.0->google-auth-oauthlib<0.5,>=0.4.1->tensorboard~=2.6->tensorflow>=2.0.0->talos) (3.1.1)\n",
            "Requirement already satisfied: IPython in /usr/local/lib/python3.7/dist-packages (from astetik->talos) (5.5.0)\n",
            "Requirement already satisfied: geonamescache in /usr/local/lib/python3.7/dist-packages (from astetik->talos) (1.3.0)\n",
            "Requirement already satisfied: seaborn in /usr/local/lib/python3.7/dist-packages (from astetik->talos) (0.11.2)\n",
            "Requirement already satisfied: decorator in /usr/local/lib/python3.7/dist-packages (from IPython->astetik->talos) (4.4.2)\n",
            "Requirement already satisfied: pickleshare in /usr/local/lib/python3.7/dist-packages (from IPython->astetik->talos) (0.7.5)\n",
            "Requirement already satisfied: prompt-toolkit<2.0.0,>=1.0.4 in /usr/local/lib/python3.7/dist-packages (from IPython->astetik->talos) (1.0.18)\n",
            "Requirement already satisfied: pygments in /usr/local/lib/python3.7/dist-packages (from IPython->astetik->talos) (2.6.1)\n",
            "Requirement already satisfied: pexpect in /usr/local/lib/python3.7/dist-packages (from IPython->astetik->talos) (4.8.0)\n",
            "Requirement already satisfied: traitlets>=4.2 in /usr/local/lib/python3.7/dist-packages (from IPython->astetik->talos) (5.1.1)\n",
            "Requirement already satisfied: simplegeneric>0.8 in /usr/local/lib/python3.7/dist-packages (from IPython->astetik->talos) (0.8.1)\n",
            "Requirement already satisfied: wcwidth in /usr/local/lib/python3.7/dist-packages (from prompt-toolkit<2.0.0,>=1.0.4->IPython->astetik->talos) (0.2.5)\n",
            "Requirement already satisfied: ptyprocess>=0.5 in /usr/local/lib/python3.7/dist-packages (from pexpect->IPython->astetik->talos) (0.7.0)\n",
            "Requirement already satisfied: matplotlib>=2.2 in /usr/local/lib/python3.7/dist-packages (from seaborn->astetik->talos) (3.2.2)\n",
            "Requirement already satisfied: cycler>=0.10 in /usr/local/lib/python3.7/dist-packages (from matplotlib>=2.2->seaborn->astetik->talos) (0.11.0)\n",
            "Requirement already satisfied: pyparsing!=2.0.4,!=2.1.2,!=2.1.6,>=2.0.1 in /usr/local/lib/python3.7/dist-packages (from matplotlib>=2.2->seaborn->astetik->talos) (3.0.6)\n",
            "Requirement already satisfied: kiwisolver>=1.0.1 in /usr/local/lib/python3.7/dist-packages (from matplotlib>=2.2->seaborn->astetik->talos) (1.3.2)\n",
            "Requirement already satisfied: scikit-learn in /usr/local/lib/python3.7/dist-packages (from sklearn->talos) (1.0.1)\n",
            "Requirement already satisfied: joblib>=0.11 in /usr/local/lib/python3.7/dist-packages (from scikit-learn->sklearn->talos) (1.1.0)\n",
            "Requirement already satisfied: threadpoolctl>=2.0.0 in /usr/local/lib/python3.7/dist-packages (from scikit-learn->sklearn->talos) (3.0.0)\n"
          ]
        }
      ]
    },
    {
      "cell_type": "code",
      "metadata": {
        "id": "IxSjD8eJHelJ"
      },
      "source": [
        "import talos"
      ],
      "execution_count": null,
      "outputs": []
    },
    {
      "cell_type": "code",
      "metadata": {
        "colab": {
          "base_uri": "https://localhost:8080/"
        },
        "id": "CFj2UoPCHsg8",
        "outputId": "5a5cba49-088a-48fe-9c09-a437ae48f074"
      },
      "source": [
        "%%time\n",
        "results = talos.Scan(X_train, y_train, params=params, model=tuned_model, experiment_name='grid')"
      ],
      "execution_count": null,
      "outputs": [
        {
          "metadata": {
            "tags": null
          },
          "name": "stderr",
          "output_type": "stream",
          "text": [
            "\r  0%|          | 0/12 [00:00<?, ?it/s]"
          ]
        },
        {
          "output_type": "stream",
          "name": "stdout",
          "text": [
            "Epoch 1/30\n",
            "74/74 [==============================] - 386s 5s/step - loss: 0.3177 - accuracy: 0.8666 - val_loss: 0.1986 - val_accuracy: 0.9137\n",
            "Epoch 2/30\n",
            "74/74 [==============================] - 384s 5s/step - loss: 0.1251 - accuracy: 0.9521 - val_loss: 0.1073 - val_accuracy: 0.9565\n",
            "Epoch 3/30\n",
            "74/74 [==============================] - 381s 5s/step - loss: 0.1823 - accuracy: 0.9417 - val_loss: 0.1446 - val_accuracy: 0.9425\n",
            "Epoch 4/30\n",
            "74/74 [==============================] - 379s 5s/step - loss: 0.1629 - accuracy: 0.9359 - val_loss: 0.0997 - val_accuracy: 0.9668\n",
            "Epoch 5/30\n",
            "74/74 [==============================] - 378s 5s/step - loss: 0.1014 - accuracy: 0.9627 - val_loss: 0.0812 - val_accuracy: 0.9661\n",
            "Epoch 6/30\n",
            "74/74 [==============================] - 380s 5s/step - loss: 0.0680 - accuracy: 0.9753 - val_loss: 0.0798 - val_accuracy: 0.9700\n",
            "Epoch 7/30\n",
            "74/74 [==============================] - 384s 5s/step - loss: 0.0563 - accuracy: 0.9784 - val_loss: 0.0865 - val_accuracy: 0.9719\n",
            "Epoch 8/30\n",
            "74/74 [==============================] - 381s 5s/step - loss: 0.0416 - accuracy: 0.9855 - val_loss: 0.0606 - val_accuracy: 0.9738\n",
            "Epoch 9/30\n",
            "74/74 [==============================] - 382s 5s/step - loss: 0.0410 - accuracy: 0.9841 - val_loss: 0.0897 - val_accuracy: 0.9700\n",
            "Epoch 10/30\n",
            "74/74 [==============================] - 385s 5s/step - loss: 0.0296 - accuracy: 0.9888 - val_loss: 0.0894 - val_accuracy: 0.9681\n",
            "Epoch 11/30\n",
            "74/74 [==============================] - 384s 5s/step - loss: 0.0209 - accuracy: 0.9923 - val_loss: 0.0830 - val_accuracy: 0.9738\n",
            "Epoch 12/30\n",
            "74/74 [==============================] - 383s 5s/step - loss: 0.0190 - accuracy: 0.9912 - val_loss: 0.1213 - val_accuracy: 0.9668\n",
            "Epoch 13/30\n",
            "74/74 [==============================] - 384s 5s/step - loss: 0.0111 - accuracy: 0.9959 - val_loss: 0.1221 - val_accuracy: 0.9661\n",
            "Epoch 14/30\n",
            "74/74 [==============================] - 383s 5s/step - loss: 0.0064 - accuracy: 0.9984 - val_loss: 0.2746 - val_accuracy: 0.9457\n",
            "Epoch 15/30\n",
            "74/74 [==============================] - 383s 5s/step - loss: 0.0165 - accuracy: 0.9921 - val_loss: 0.0963 - val_accuracy: 0.9776\n",
            "Epoch 16/30\n",
            "74/74 [==============================] - 382s 5s/step - loss: 0.0111 - accuracy: 0.9962 - val_loss: 0.1006 - val_accuracy: 0.9744\n",
            "Epoch 17/30\n",
            "74/74 [==============================] - 382s 5s/step - loss: 9.4471e-04 - accuracy: 1.0000 - val_loss: 0.1046 - val_accuracy: 0.9757\n",
            "Epoch 18/30\n",
            "74/74 [==============================] - 383s 5s/step - loss: 7.3523e-04 - accuracy: 1.0000 - val_loss: 0.1104 - val_accuracy: 0.9744\n",
            "Epoch 19/30\n",
            "74/74 [==============================] - 384s 5s/step - loss: 3.8912e-04 - accuracy: 1.0000 - val_loss: 0.1165 - val_accuracy: 0.9738\n",
            "Epoch 20/30\n",
            "74/74 [==============================] - 385s 5s/step - loss: 1.6824e-04 - accuracy: 1.0000 - val_loss: 0.1109 - val_accuracy: 0.9764\n",
            "Epoch 21/30\n",
            "74/74 [==============================] - 384s 5s/step - loss: 1.1087e-04 - accuracy: 1.0000 - val_loss: 0.1116 - val_accuracy: 0.9770\n",
            "Epoch 22/30\n",
            "74/74 [==============================] - 383s 5s/step - loss: 1.2784e-04 - accuracy: 1.0000 - val_loss: 0.1171 - val_accuracy: 0.9744\n",
            "Epoch 23/30\n",
            "74/74 [==============================] - 384s 5s/step - loss: 1.1612e-04 - accuracy: 1.0000 - val_loss: 0.1159 - val_accuracy: 0.9770\n",
            "Epoch 24/30\n",
            "74/74 [==============================] - 383s 5s/step - loss: 6.7232e-05 - accuracy: 1.0000 - val_loss: 0.1233 - val_accuracy: 0.9725\n",
            "Epoch 25/30\n",
            "74/74 [==============================] - 383s 5s/step - loss: 9.1327e-05 - accuracy: 1.0000 - val_loss: 0.1171 - val_accuracy: 0.9757\n",
            "Epoch 26/30\n",
            "74/74 [==============================] - 383s 5s/step - loss: 6.1719e-05 - accuracy: 1.0000 - val_loss: 0.1153 - val_accuracy: 0.9783\n",
            "Epoch 27/30\n",
            "74/74 [==============================] - 386s 5s/step - loss: 4.8308e-05 - accuracy: 1.0000 - val_loss: 0.1196 - val_accuracy: 0.9757\n",
            "Epoch 28/30\n",
            "74/74 [==============================] - 391s 5s/step - loss: 3.1040e-05 - accuracy: 1.0000 - val_loss: 0.1242 - val_accuracy: 0.9757\n",
            "Epoch 29/30\n",
            "74/74 [==============================] - 385s 5s/step - loss: 4.1336e-05 - accuracy: 1.0000 - val_loss: 0.1222 - val_accuracy: 0.9764\n",
            "Epoch 30/30\n",
            "74/74 [==============================] - 386s 5s/step - loss: 3.8700e-05 - accuracy: 1.0000 - val_loss: 0.1219 - val_accuracy: 0.9764\n"
          ]
        },
        {
          "output_type": "stream",
          "name": "stderr",
          "text": [
            "\r  8%|▊         | 1/12 [3:12:24<35:16:33, 11544.83s/it]"
          ]
        },
        {
          "output_type": "stream",
          "name": "stdout",
          "text": [
            "Epoch 1/30\n",
            "74/74 [==============================] - 385s 5s/step - loss: 0.5720 - accuracy: 0.7371 - val_loss: 0.7470 - val_accuracy: 0.2550\n",
            "Epoch 2/30\n",
            "74/74 [==============================] - 386s 5s/step - loss: 0.5554 - accuracy: 0.7286 - val_loss: 0.8689 - val_accuracy: 0.2550\n",
            "Epoch 3/30\n",
            "74/74 [==============================] - 386s 5s/step - loss: 0.5734 - accuracy: 0.7165 - val_loss: 0.8758 - val_accuracy: 0.2550\n",
            "Epoch 4/30\n",
            "74/74 [==============================] - 387s 5s/step - loss: 0.5140 - accuracy: 0.7423 - val_loss: 0.7313 - val_accuracy: 0.7450\n",
            "Epoch 5/30\n",
            "74/74 [==============================] - 386s 5s/step - loss: 0.4524 - accuracy: 0.8003 - val_loss: 1.6852 - val_accuracy: 0.2550\n",
            "Epoch 6/30\n",
            "74/74 [==============================] - 386s 5s/step - loss: 0.4334 - accuracy: 0.8102 - val_loss: 0.6882 - val_accuracy: 0.7450\n",
            "Epoch 7/30\n",
            "74/74 [==============================] - 386s 5s/step - loss: 0.3331 - accuracy: 0.8762 - val_loss: 0.2922 - val_accuracy: 0.8709\n",
            "Epoch 8/30\n",
            "74/74 [==============================] - 385s 5s/step - loss: 0.2774 - accuracy: 0.8844 - val_loss: 0.6023 - val_accuracy: 0.7450\n",
            "Epoch 9/30\n",
            "74/74 [==============================] - 385s 5s/step - loss: 0.3034 - accuracy: 0.8726 - val_loss: 1.0955 - val_accuracy: 0.7482\n",
            "Epoch 10/30\n",
            "74/74 [==============================] - 385s 5s/step - loss: 0.2422 - accuracy: 0.9113 - val_loss: 0.1703 - val_accuracy: 0.9361\n",
            "Epoch 11/30\n",
            "74/74 [==============================] - 386s 5s/step - loss: 0.2124 - accuracy: 0.9217 - val_loss: 0.1901 - val_accuracy: 0.9265\n",
            "Epoch 12/30\n",
            "74/74 [==============================] - 386s 5s/step - loss: 0.1793 - accuracy: 0.9323 - val_loss: 0.2290 - val_accuracy: 0.9048\n",
            "Epoch 13/30\n",
            "74/74 [==============================] - 386s 5s/step - loss: 0.1654 - accuracy: 0.9384 - val_loss: 0.1875 - val_accuracy: 0.9291\n",
            "Epoch 14/30\n",
            "74/74 [==============================] - 386s 5s/step - loss: 0.1473 - accuracy: 0.9439 - val_loss: 0.1936 - val_accuracy: 0.9252\n",
            "Epoch 15/30\n",
            "74/74 [==============================] - 386s 5s/step - loss: 0.1452 - accuracy: 0.9452 - val_loss: 0.2435 - val_accuracy: 0.8990\n",
            "Epoch 16/30\n",
            "74/74 [==============================] - 387s 5s/step - loss: 0.1368 - accuracy: 0.9474 - val_loss: 0.1302 - val_accuracy: 0.9495\n",
            "Epoch 17/30\n",
            " 6/74 [=>............................] - ETA: 5:21 - loss: 0.1090 - accuracy: 0.9633"
          ]
        }
      ]
    },
    {
      "cell_type": "code",
      "metadata": {
        "id": "mshUnsMr7Oa0"
      },
      "source": [
        "results.best_model(metric='val_accuracy')"
      ],
      "execution_count": null,
      "outputs": []
    }
  ]
}